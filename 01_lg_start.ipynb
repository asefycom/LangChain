{
 "cells": [
  {
   "cell_type": "code",
   "execution_count": 1,
   "metadata": {},
   "outputs": [],
   "source": [
    "from keys import openai\n",
    "import os\n",
    "\n",
    "os.environ['OPENAI_API_KEY'] = openai"
   ]
  },
  {
   "cell_type": "code",
   "execution_count": 3,
   "metadata": {},
   "outputs": [
    {
     "name": "stdout",
     "output_type": "stream",
     "text": [
      "Design me a weekly exercise program at home without equipment. \n",
      "                   I am a 37-year-old man with a \n",
      "                   weight of 82 kg and a height of 190 cm. \n",
      "                   I can spend 10 minutes for exercise Every day except Friday. \n",
      "                   My goal is to build muscle.\n"
     ]
    }
   ],
   "source": [
    "from langchain.llms import OpenAI\n",
    "from langchain.prompts import PromptTemplate\n",
    "\n",
    "llm = OpenAI(temperature=0.8)\n",
    "\n",
    "prompt_template_plan = PromptTemplate(\n",
    "    input_variables=['age', 'gender', 'weight', 'height', 'freetime', 'goal'],\n",
    "    template=\"\"\"Design me a weekly exercise program at home without equipment. \n",
    "                   I am a {age}-year-old {gender} with a \n",
    "                   weight of {weight} kg and a height of {height} cm. \n",
    "                   I can spend {freetime} minutes for exercise Every day except Friday. \n",
    "                   My goal is to {goal}.\"\"\"\n",
    ")\n",
    "\n",
    "prompt_value_plan = prompt_template_plan.format(age=\"37\", gender=\"man\", \n",
    "                                weight=82, height=190, freetime=10, goal=\"build muscle\")\n",
    "print(prompt_value_plan)"
   ]
  },
  {
   "cell_type": "code",
   "execution_count": 4,
   "metadata": {},
   "outputs": [
    {
     "name": "stdout",
     "output_type": "stream",
     "text": [
      "\n",
      "\n",
      "Monday: Push-ups (3 sets of 10-15 reps)\n",
      "Tuesday: Squats (3 sets of 10-15 reps)\n",
      "Wednesday: Lunges (3 sets of 10-15 reps)\n",
      "Thursday: Plank (2 sets of 45-60 seconds)\n",
      "Saturday: Burpees (3 sets of 10-15 reps)\n",
      "Sunday: Mountain Climbers (3 sets of 10-15 reps)\n"
     ]
    }
   ],
   "source": [
    "plan = llm.predict(prompt_value_plan)\n",
    "print(plan)"
   ]
  }
 ],
 "metadata": {
  "kernelspec": {
   "display_name": "venvlg",
   "language": "python",
   "name": "python3"
  },
  "language_info": {
   "codemirror_mode": {
    "name": "ipython",
    "version": 3
   },
   "file_extension": ".py",
   "mimetype": "text/x-python",
   "name": "python",
   "nbconvert_exporter": "python",
   "pygments_lexer": "ipython3",
   "version": "3.11.3"
  }
 },
 "nbformat": 4,
 "nbformat_minor": 2
}
